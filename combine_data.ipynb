{
 "cells": [
  {
   "cell_type": "code",
   "execution_count": 8,
   "id": "80d20ee7",
   "metadata": {},
   "outputs": [
    {
     "name": "stdout",
     "output_type": "stream",
     "text": [
      "Combine succeeded\n"
     ]
    }
   ],
   "source": [
    "import pandas as pd\n",
    "\n",
    "# List of months \n",
    "months = [\n",
    "    \"feb\", \"march\",\"april\" ,\"may\", \"june\",\n",
    "    \"july\", \"august\", \"semp\", \"Octo\",\n",
    "    \"nov\"\n",
    "]\n",
    "\n",
    "#Combine sheets\n",
    "all_data = []\n",
    "for month in months:\n",
    "    file_path = f'C:\\\\Users\\\\dell\\\\Desktop\\\\internship technocolabs\\\\Data merge\\\\Merged data.xlsx'  # Update with the actual file path\n",
    "    df = pd.read_excel(file_path, sheet_name=month)\n",
    "    df['Month'] = month  # Add a new column for the month\n",
    "    all_data.append(df)\n",
    "\n",
    "# Concatenate all dataframes\n",
    "combined_data = pd.concat(all_data, ignore_index=True)\n",
    "\n",
    "# A new Excel file to save the combined data \n",
    "combined_file_path = 'final_data.xlsx'\n",
    "combined_data.to_excel(combined_file_path, index=False, engine='openpyxl')\n",
    "print(\"Combine succeeded\")"
   ]
  },
  {
   "cell_type": "code",
   "execution_count": null,
   "id": "37a0e343",
   "metadata": {},
   "outputs": [],
   "source": []
  },
  {
   "cell_type": "code",
   "execution_count": null,
   "id": "103f51a0",
   "metadata": {},
   "outputs": [],
   "source": []
  }
 ],
 "metadata": {
  "kernelspec": {
   "display_name": "Python 3 (ipykernel)",
   "language": "python",
   "name": "python3"
  },
  "language_info": {
   "codemirror_mode": {
    "name": "ipython",
    "version": 3
   },
   "file_extension": ".py",
   "mimetype": "text/x-python",
   "name": "python",
   "nbconvert_exporter": "python",
   "pygments_lexer": "ipython3",
   "version": "3.9.13"
  }
 },
 "nbformat": 4,
 "nbformat_minor": 5
}
