{
 "cells": [
  {
   "cell_type": "code",
   "execution_count": 7,
   "id": "20f5da96",
   "metadata": {},
   "outputs": [
    {
     "name": "stdout",
     "output_type": "stream",
     "text": [
      "Requirement already satisfied: selenium in c:\\users\\dell\\anaconda3\\lib\\site-packages (4.16.0)\n",
      "Requirement already satisfied: trio~=0.17 in c:\\users\\dell\\anaconda3\\lib\\site-packages (from selenium) (0.24.0)\n",
      "Requirement already satisfied: certifi>=2021.10.8 in c:\\users\\dell\\anaconda3\\lib\\site-packages (from selenium) (2022.9.14)\n",
      "Requirement already satisfied: urllib3[socks]<3,>=1.26 in c:\\users\\dell\\anaconda3\\lib\\site-packages (from selenium) (1.26.11)\n",
      "Requirement already satisfied: trio-websocket~=0.9 in c:\\users\\dell\\anaconda3\\lib\\site-packages (from selenium) (0.11.1)\n",
      "Requirement already satisfied: attrs>=20.1.0 in c:\\users\\dell\\anaconda3\\lib\\site-packages (from trio~=0.17->selenium) (21.4.0)\n",
      "Requirement already satisfied: exceptiongroup in c:\\users\\dell\\anaconda3\\lib\\site-packages (from trio~=0.17->selenium) (1.2.0)\n",
      "Requirement already satisfied: sortedcontainers in c:\\users\\dell\\anaconda3\\lib\\site-packages (from trio~=0.17->selenium) (2.4.0)\n",
      "Requirement already satisfied: cffi>=1.14 in c:\\users\\dell\\anaconda3\\lib\\site-packages (from trio~=0.17->selenium) (1.15.1)\n",
      "Requirement already satisfied: idna in c:\\users\\dell\\anaconda3\\lib\\site-packages (from trio~=0.17->selenium) (3.3)\n",
      "Requirement already satisfied: outcome in c:\\users\\dell\\anaconda3\\lib\\site-packages (from trio~=0.17->selenium) (1.3.0.post0)\n",
      "Requirement already satisfied: sniffio>=1.3.0 in c:\\users\\dell\\anaconda3\\lib\\site-packages (from trio~=0.17->selenium) (1.3.0)\n",
      "Requirement already satisfied: wsproto>=0.14 in c:\\users\\dell\\anaconda3\\lib\\site-packages (from trio-websocket~=0.9->selenium) (1.2.0)\n",
      "Requirement already satisfied: PySocks!=1.5.7,<2.0,>=1.5.6 in c:\\users\\dell\\anaconda3\\lib\\site-packages (from urllib3[socks]<3,>=1.26->selenium) (1.7.1)\n",
      "Requirement already satisfied: pycparser in c:\\users\\dell\\anaconda3\\lib\\site-packages (from cffi>=1.14->trio~=0.17->selenium) (2.21)\n",
      "Requirement already satisfied: h11<1,>=0.9.0 in c:\\users\\dell\\anaconda3\\lib\\site-packages (from wsproto>=0.14->trio-websocket~=0.9->selenium) (0.14.0)\n"
     ]
    }
   ],
   "source": [
    "#install selenium\n",
    "!pip install selenium  "
   ]
  },
  {
   "cell_type": "code",
   "execution_count": 8,
   "id": "72f92089",
   "metadata": {},
   "outputs": [
    {
     "name": "stdout",
     "output_type": "stream",
     "text": [
      "Requirement already satisfied: requests in c:\\users\\dell\\anaconda3\\lib\\site-packages (2.28.1)\n",
      "Requirement already satisfied: certifi>=2017.4.17 in c:\\users\\dell\\anaconda3\\lib\\site-packages (from requests) (2022.9.14)\n",
      "Requirement already satisfied: idna<4,>=2.5 in c:\\users\\dell\\anaconda3\\lib\\site-packages (from requests) (3.3)\n",
      "Requirement already satisfied: charset-normalizer<3,>=2 in c:\\users\\dell\\anaconda3\\lib\\site-packages (from requests) (2.0.4)\n",
      "Requirement already satisfied: urllib3<1.27,>=1.21.1 in c:\\users\\dell\\anaconda3\\lib\\site-packages (from requests) (1.26.11)\n"
     ]
    }
   ],
   "source": [
    "#The \"requests\" library enables the addition of features for accessing and communicating with web resources in a Python program.\n",
    "!pip install requests"
   ]
  },
  {
   "cell_type": "code",
   "execution_count": 10,
   "id": "2e5412b4",
   "metadata": {},
   "outputs": [
    {
     "name": "stdout",
     "output_type": "stream",
     "text": [
      "Downloaded: CARDSTATISTICSNOV238027AEE4EAC345CB8DE1FBE6AACE7F28.XLSX\n",
      "Downloaded: CARDSTATISTICSOCT233FCD79949CF34355AB25245B3EFE2074.XLSX\n",
      "Downloaded: CARDSTATISTICSSEP20237F9722FFFD2C4A648A621CB928EE955F.XLSX\n",
      "Downloaded: ATMAUGUST202319B50E68165143FFA625E49F3E6757D2.XLSX\n",
      "Downloaded: ATMJULY2023A656B1BC0E5849EC9CA8092193D69B66.XLSX\n",
      "Downloaded: ATMJUNE20235B987AE67A6F49A6918662DBF8A9E31D.XLSX\n",
      "Downloaded: ATMMAY2023DA5FCDE42EAC49DCA5CA96618D5B66DA.XLSX\n",
      "Downloaded: ATMCARDSAPRIL20238B7180C64D8C4C0E9DC53416B47F32F5.XLSX\n",
      "Downloaded: ATMCARDSMARCH2326696F4AA2574B6FBA44619F2E06D710.XLSX\n",
      "Downloaded: ATMCARDSFEBRUARY23338AEF0694164CA3A9699D81995BBD86.XLSX\n",
      "Downloads succeeded!\n"
     ]
    }
   ],
   "source": [
    "from selenium import webdriver\n",
    "from selenium.webdriver.chrome.options import Options\n",
    "from selenium.webdriver.common.by import By\n",
    "from urllib.parse import urljoin\n",
    "import os\n",
    "import requests\n",
    "\n",
    "# Target page URL\n",
    "base_url = \"https://www.rbi.org.in/Scripts/ATMView.aspx\"\n",
    "\n",
    "# Chrome driver path, replace it with your own\n",
    "chrome_driver_path = \"C:\\\\Users\\\\dell\\\\Desktop\\\\chromedriver-win64\\\\chromedriver.exe\"\n",
    "\n",
    "# Chrome browser options\n",
    "chrome_options = Options()\n",
    "chrome_options.binary_location = \"C:\\\\Program Files\\\\Google\\\\Chrome\\\\Application\\\\chrome.exe\"\n",
    "\n",
    "# Instantiate the Chrome browser with options\n",
    "driver = webdriver.Chrome(options=chrome_options)\n",
    "\n",
    "# Access the web page\n",
    "driver.get(base_url)\n",
    "\n",
    "# Find links to Excel files\n",
    "excel_links = []\n",
    "for link in driver.find_elements(By.TAG_NAME, \"a\"):\n",
    "    href = link.get_attribute(\"href\")\n",
    "    if href and href.lower().endswith(\".xlsx\"):\n",
    "        excel_links.append(href)\n",
    "\n",
    "# Create a directory to store downloaded files\n",
    "download_dir = \"Scraped_Data\"\n",
    "os.makedirs(download_dir, exist_ok=True)\n",
    "\n",
    "# Download and save Excel files\n",
    "for link in excel_links:\n",
    "    file_url = urljoin(base_url, link)\n",
    "    file_name = os.path.basename(file_url)\n",
    "    file_path = os.path.join(download_dir, file_name)\n",
    "\n",
    "    # Download the Excel file as binary\n",
    "    response = requests.get(file_url)\n",
    "    \n",
    "    # Save the file content in the directory\n",
    "    with open(file_path, \"wb\") as file:\n",
    "        file.write(response.content)\n",
    "        print(f\"Downloaded: {file_name}\")\n",
    "\n",
    "print(\"Downloads succeeded!\")\n",
    "\n",
    "# Close the browser\n",
    "driver.quit()\n",
    "\n"
   ]
  },
  {
   "cell_type": "code",
   "execution_count": null,
   "id": "c78b5411",
   "metadata": {},
   "outputs": [],
   "source": []
  }
 ],
 "metadata": {
  "kernelspec": {
   "display_name": "Python 3 (ipykernel)",
   "language": "python",
   "name": "python3"
  },
  "language_info": {
   "codemirror_mode": {
    "name": "ipython",
    "version": 3
   },
   "file_extension": ".py",
   "mimetype": "text/x-python",
   "name": "python",
   "nbconvert_exporter": "python",
   "pygments_lexer": "ipython3",
   "version": "3.9.13"
  }
 },
 "nbformat": 4,
 "nbformat_minor": 5
}
